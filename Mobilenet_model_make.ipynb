{
  "nbformat": 4,
  "nbformat_minor": 0,
  "metadata": {
    "orig_nbformat": 2,
    "kernelspec": {
      "name": "python3",
      "display_name": "Python 3"
    },
    "metadata": {
      "interpreter": {
        "hash": "62518700cf93673c8cb4cb3100bcc8a6d85e8aa1c62b2bcb4b999fd239a54dad"
      }
    },
    "colab": {
      "name": "Mobilenet_model_make.ipynb",
      "provenance": [],
      "collapsed_sections": [],
      "machine_shape": "hm",
      "include_colab_link": true
    },
    "language_info": {
      "name": "python"
    },
    "accelerator": "GPU"
  },
  "cells": [
    {
      "cell_type": "markdown",
      "metadata": {
        "id": "view-in-github",
        "colab_type": "text"
      },
      "source": [
        "<a href=\"https://colab.research.google.com/github/JunSeokCheon/Estimating-user-age-for-kiosk-UI-UX-personalization/blob/master/Mobilenet_model_make.ipynb\" target=\"_parent\"><img src=\"https://colab.research.google.com/assets/colab-badge.svg\" alt=\"Open In Colab\"/></a>"
      ]
    },
    {
      "cell_type": "code",
      "metadata": {
        "colab": {
          "base_uri": "https://localhost:8080/"
        },
        "id": "Xav8NoY4yDUT",
        "outputId": "2de86f47-ea4b-4156-c45b-60cfa53b5f4e"
      },
      "source": [
        "# google drive mount code|\n",
        "from google.colab import drive\n",
        "drive.mount('/content/drive')"
      ],
      "execution_count": 1,
      "outputs": [
        {
          "output_type": "stream",
          "name": "stdout",
          "text": [
            "Mounted at /content/drive\n"
          ]
        }
      ]
    },
    {
      "cell_type": "code",
      "metadata": {
        "id": "BQxlPSOryDUX"
      },
      "source": [
        "import os\n",
        "import sys\n",
        "import math\n",
        "import itertools\n",
        "from zipfile import ZipFile\n",
        "\n",
        "import time\n",
        "from datetime import datetime\n",
        "\n",
        "# opencv 관련 코드는 tf.image로 대체해봄. 문제 생기면 알려줄 것\n",
        "# import cv2"
      ],
      "execution_count": 2,
      "outputs": []
    },
    {
      "cell_type": "code",
      "metadata": {
        "id": "qzntPJHWyDUX"
      },
      "source": [
        "import numpy as np\n",
        "import pandas as pd\n",
        "\n",
        "import matplotlib.pyplot as plt\n",
        "import seaborn as sns\n",
        "\n",
        "from sklearn.model_selection import train_test_split, StratifiedKFold\n",
        "from sklearn.metrics import confusion_matrix\n",
        "\n",
        "import tensorflow as tf\n",
        "from tensorflow import keras\n",
        "from tensorflow.keras import utils\n",
        "from tensorflow.keras import models\n",
        "from tensorflow.keras import layers\n",
        "from tensorflow.keras import callbacks\n",
        "from tensorflow.keras import applications\n"
      ],
      "execution_count": 3,
      "outputs": []
    },
    {
      "cell_type": "code",
      "metadata": {
        "id": "2T0TvU7byDUY"
      },
      "source": [
        "# 테스트를 위한 seed 고정. 이후 정규 학습시에는 시드 고정 해제할 것\n",
        "SEED = 2021\n",
        "np.random.seed(SEED)\n",
        "tf.random.set_seed(SEED)"
      ],
      "execution_count": 4,
      "outputs": []
    },
    {
      "cell_type": "code",
      "metadata": {
        "id": "zpGQW0vtyDUY"
      },
      "source": [
        "# 각종 매개변수\n",
        "PATIENCE = 20       # 얼리스탑에 사용된 주시 횟수\n",
        "EPOCH_SIZE = 100    # epoch 횟수\n",
        "BATCH_SIZE = 192    # batch 크기\n",
        "IMAGE_SIZE = 200    # 이미지 크기\n",
        "CHANNELS = 3\n",
        "INPUT_SHAPE = (IMAGE_SIZE, IMAGE_SIZE, CHANNELS)   # 이미지 크기에 따른 shape 크기"
      ],
      "execution_count": 5,
      "outputs": []
    },
    {
      "cell_type": "code",
      "metadata": {
        "colab": {
          "base_uri": "https://localhost:8080/"
        },
        "id": "Eyys_m-fyDUY",
        "outputId": "098e8462-eab3-4936-c869-f8bdec3c4a2b"
      },
      "source": [
        "# 텐서플로우 버전 확인하는 코드\n",
        "print(tf.__version__)\n",
        "# GPU가 잡히는지 확인하는 코드\n",
        "device_name = tf.test.gpu_device_name()\n",
        "if device_name != '/device:GPU:0':\n",
        "    raise SystemError('GPU device not found')\n",
        "print('Found GPU at: {}'.format(device_name))"
      ],
      "execution_count": 6,
      "outputs": [
        {
          "output_type": "stream",
          "name": "stdout",
          "text": [
            "2.6.0\n",
            "Found GPU at: /device:GPU:0\n"
          ]
        }
      ]
    },
    {
      "cell_type": "code",
      "metadata": {
        "id": "We6x87AOyDUZ"
      },
      "source": [
        "# 파일이 압축되어 있을 때 압축 해제하는 코드\n",
        "file_path = \"/content/drive/My Drive/age_detection/zipped_dataset/Combined_data_final.zip\"\n",
        "try:\n",
        "    os.mkdir(\"combined\")\n",
        "    os.remove(\"combined\")\n",
        "except OSError:\n",
        "    pass\n",
        "\n",
        "with ZipFile(file_path, 'r') as myzip:\n",
        "    myzip.extractall(\"combined\")\n",
        "    print('Done unzipping ', file_path)"
      ],
      "execution_count": null,
      "outputs": []
    },
    {
      "cell_type": "code",
      "metadata": {
        "id": "tu4dUTzA0lWA"
      },
      "source": [
        "!pip install matplotlib"
      ],
      "execution_count": null,
      "outputs": []
    },
    {
      "cell_type": "code",
      "metadata": {
        "id": "K2cndYGFyDUZ"
      },
      "source": [
        "# # 이미지 경로로 특정 이미지 불러오는 코드\n",
        "# img_path = \"/content/combined/100_0_1.jpg\"\n",
        "\n",
        "# image_string = tf.io.read_file(img_path)\n",
        "# img = tf.io.decode_jpeg(image_string, channels=3)\n",
        "# # img = cv2.imread(img_path)\n",
        "# # img = cv2.cvtColor(img, cv2.COLOR_RGB2BGR) # 불러온 이미지의 컬러 채널 순서 변경\n",
        "\n",
        "# plt.axis('off')\n",
        "# plt.imshow(img)\n",
        "# # matplotlib.imshow(img)"
      ],
      "execution_count": null,
      "outputs": []
    },
    {
      "cell_type": "code",
      "metadata": {
        "colab": {
          "base_uri": "https://localhost:8080/",
          "height": 203
        },
        "id": "7ykFnsvTyDUa",
        "outputId": "23d274e4-5bdc-4918-b787-677f51d84f50"
      },
      "source": [
        "# csv 파일을 추가하는 코드\n",
        "csv_path = \"/content/drive/My Drive/age_detection/input_output/images_filenames_labels.csv\"\n",
        "\n",
        "data_df = pd.read_csv(csv_path)\n",
        "data_df.head()"
      ],
      "execution_count": null,
      "outputs": [
        {
          "output_type": "execute_result",
          "data": {
            "text/html": [
              "<div>\n",
              "<style scoped>\n",
              "    .dataframe tbody tr th:only-of-type {\n",
              "        vertical-align: middle;\n",
              "    }\n",
              "\n",
              "    .dataframe tbody tr th {\n",
              "        vertical-align: top;\n",
              "    }\n",
              "\n",
              "    .dataframe thead th {\n",
              "        text-align: right;\n",
              "    }\n",
              "</style>\n",
              "<table border=\"1\" class=\"dataframe\">\n",
              "  <thead>\n",
              "    <tr style=\"text-align: right;\">\n",
              "      <th></th>\n",
              "      <th>filename</th>\n",
              "      <th>age</th>\n",
              "      <th>target</th>\n",
              "    </tr>\n",
              "  </thead>\n",
              "  <tbody>\n",
              "    <tr>\n",
              "      <th>0</th>\n",
              "      <td>/content/combined/test_image/47_3_305.jpg</td>\n",
              "      <td>47</td>\n",
              "      <td>3</td>\n",
              "    </tr>\n",
              "    <tr>\n",
              "      <th>1</th>\n",
              "      <td>/content/combined/test_image/27_2_1505.jpg</td>\n",
              "      <td>27</td>\n",
              "      <td>1</td>\n",
              "    </tr>\n",
              "    <tr>\n",
              "      <th>2</th>\n",
              "      <td>/content/combined/test_image/56_0_633.jpg</td>\n",
              "      <td>56</td>\n",
              "      <td>4</td>\n",
              "    </tr>\n",
              "    <tr>\n",
              "      <th>3</th>\n",
              "      <td>/content/combined/test_image/17_3_166.jpg</td>\n",
              "      <td>17</td>\n",
              "      <td>0</td>\n",
              "    </tr>\n",
              "    <tr>\n",
              "      <th>4</th>\n",
              "      <td>/content/combined/test_image/27_3_6726.jpg</td>\n",
              "      <td>27</td>\n",
              "      <td>1</td>\n",
              "    </tr>\n",
              "  </tbody>\n",
              "</table>\n",
              "</div>"
            ],
            "text/plain": [
              "                                     filename  age  target\n",
              "0   /content/combined/test_image/47_3_305.jpg   47       3\n",
              "1  /content/combined/test_image/27_2_1505.jpg   27       1\n",
              "2   /content/combined/test_image/56_0_633.jpg   56       4\n",
              "3   /content/combined/test_image/17_3_166.jpg   17       0\n",
              "4  /content/combined/test_image/27_3_6726.jpg   27       1"
            ]
          },
          "metadata": {
            "tags": []
          },
          "execution_count": 16
        }
      ]
    },
    {
      "cell_type": "code",
      "metadata": {
        "colab": {
          "base_uri": "https://localhost:8080/"
        },
        "id": "hjHkdKD5yDUa",
        "outputId": "0a3e2f61-e661-43bd-fa97-0c8239f03fad"
      },
      "source": [
        "# target 데이터로 이미지 연령 그룹 분포를 확인하는 코드(개수)\n",
        "data_df['target'].value_counts(normalize=False)"
      ],
      "execution_count": null,
      "outputs": [
        {
          "output_type": "execute_result",
          "data": {
            "text/plain": [
              "1    18555\n",
              "2    13486\n",
              "3     9428\n",
              "4     7620\n",
              "0     7063\n",
              "5     6492\n",
              "Name: target, dtype: int64"
            ]
          },
          "metadata": {
            "tags": []
          },
          "execution_count": 17
        }
      ]
    },
    {
      "cell_type": "code",
      "metadata": {
        "colab": {
          "base_uri": "https://localhost:8080/"
        },
        "id": "RSVqaKteyDUa",
        "outputId": "d616634a-eb88-458a-b6d4-6af557620696"
      },
      "source": [
        "# target 데이터로 이미지 연령 그룹 분포를 확인하는 코드(정규화)\n",
        "data_df['target'].value_counts(normalize=False)"
      ],
      "execution_count": null,
      "outputs": [
        {
          "output_type": "execute_result",
          "data": {
            "text/plain": [
              "1    30534\n",
              "0    25618\n",
              "2     6492\n",
              "Name: target, dtype: int64"
            ]
          },
          "metadata": {
            "tags": []
          },
          "execution_count": 15
        }
      ]
    },
    {
      "cell_type": "code",
      "metadata": {
        "id": "Uwxz-8PwyDUa"
      },
      "source": [
        "# target별로 n개만큼 샘플링하는 코드\n",
        "# 샘플링 안할 때는 코드 전체를 주석처리할 것\n",
        "sample_n = 6492   # 추출할 샘플의 개수\n",
        "sample_df = pd.DataFrame(columns=['filename', 'age', 'target'])\n",
        "for t in data_df['target'].unique():\n",
        "    temp_df = data_df.query('target==@t').sample(n=sample_n)    # target 별로 n개 만큼 샘플링\n",
        "    sample_df = pd.concat([sample_df, temp_df])                 # 데이터 결합\n",
        "\n",
        "data_df = sample_df.reset_index(drop=True)                      # 샘플링한 df로 새로 인덱싱"
      ],
      "execution_count": null,
      "outputs": []
    },
    {
      "cell_type": "code",
      "metadata": {
        "id": "3jZQ_uKWyDUa"
      },
      "source": [
        "# feature와 target으로 분리\n",
        "x_data = data_df['filename']    # feature는 이미지\n",
        "y_data = data_df['target']      # target은 연령대\n",
        "\n",
        "# one-hot encoding\n",
        "y_data = utils.to_categorical(y_data)"
      ],
      "execution_count": null,
      "outputs": []
    },
    {
      "cell_type": "code",
      "metadata": {
        "id": "0UiovuLbyDUb"
      },
      "source": [
        "x_train, x_test, y_train, y_test = train_test_split(x_data, y_data, test_size=0.3, random_state=SEED)"
      ],
      "execution_count": null,
      "outputs": []
    },
    {
      "cell_type": "code",
      "metadata": {
        "id": "GoVgYEbi26Ww"
      },
      "source": [
        "x_train = x_train.reset_index(drop=True)\n",
        "x_test = x_test.reset_index(drop=True)"
      ],
      "execution_count": null,
      "outputs": []
    },
    {
      "cell_type": "code",
      "metadata": {
        "id": "yslI8d8tyDUb"
      },
      "source": [
        "# 파일 경로에 해당하는 이미지를 로드하는 함수\n",
        "def _load_img(filename):\n",
        "  # 이미지 불러오는 코드\n",
        "  image_string = tf.io.read_file(filename)\n",
        "  image_decoded = tf.io.decode_jpeg(image_string, channels=CHANNELS)\n",
        "  # 이미지 어규먼트 하는 코드\n",
        "  image_augment = tf.image.random_flip_left_right(image_decoded)\n",
        "  # image_augment = tf.image.random_flip_up_down(image_augment)\n",
        "  image_augment = tf.image.random_brightness(image_augment, max_delta=0.1)\n",
        "  # image_augment = tf.image.random_contrast(image_augment, lower=0.8, upper=1.2)\n",
        "  # 이미지 리사이징 하는 코드\n",
        "  image_resize = tf.image.resize(image_augment, (IMAGE_SIZE, IMAGE_SIZE))\n",
        "  image_normalize = image_resize / 255\n",
        "\n",
        "  return image_normalize"
      ],
      "execution_count": null,
      "outputs": []
    },
    {
      "cell_type": "code",
      "metadata": {
        "id": "HmXA-y58yDUb"
      },
      "source": [
        "# 커스텀 데이터 로더 함수\n",
        "class Dataloader(utils.Sequence):\n",
        "\n",
        "    def __init__(self, x_set, y_set, batch_size, shuffle=False):\n",
        "        self.x, self.y = x_set, y_set\n",
        "        self.batch_size = batch_size\n",
        "        self.shuffle=shuffle\n",
        "        self.on_epoch_end()\n",
        "\n",
        "    def __len__(self):              # 로더의 길이 계산\n",
        "        return math.ceil(len(self.x) / self.batch_size)\n",
        "\n",
        "    def __getitem__(self, idx):     # batch 단위로 직접 묶어줘야 함\n",
        "\t\t                            # sampler의 역할(index를 batch_size만큼 sampling해줌)\n",
        "        indices = self.indices[idx*self.batch_size:(idx+1)*self.batch_size]\n",
        "\n",
        "        batch_path_x = [self.x[i] for i in indices]\n",
        "        batch_x = [_load_img(path) for path in batch_path_x]\n",
        "        batch_y = [self.y[i] for i in indices]\n",
        "\n",
        "        return np.array(batch_x), np.array(batch_y)\n",
        "\n",
        "    def on_epoch_end(self):         # epoch이 끝날때마다 실행\n",
        "        self.indices = np.arange(len(self.x))\n",
        "        if self.shuffle == True:\n",
        "            np.random.shuffle(self.indices)"
      ],
      "execution_count": null,
      "outputs": []
    },
    {
      "cell_type": "code",
      "metadata": {
        "id": "g43rJmwFyDUc"
      },
      "source": [
        "# 커스텀 데이터 로더 적용\n",
        "loader_train = Dataloader(x_train, y_train, batch_size=BATCH_SIZE, shuffle=True)\n",
        "loader_test = Dataloader(x_test, y_test, batch_size=BATCH_SIZE, shuffle=True)"
      ],
      "execution_count": null,
      "outputs": []
    },
    {
      "cell_type": "code",
      "metadata": {
        "id": "NsvP7FFUyDUc"
      },
      "source": [
        "# MobileNetV2 모델 로드\n",
        "model_MobileNetV2 = applications.MobileNetV2(input_shape=INPUT_SHAPE, \n",
        "                                            include_top=False, \n",
        "                                            weights=\"imagenet\"\n",
        "                                            )\n",
        "model_MobileNetV2.trainabel = True\n",
        "# model_MobileNetV2.trainabel = False   # 주석 함부러 지우지 말 것"
      ],
      "execution_count": null,
      "outputs": []
    },
    {
      "cell_type": "code",
      "metadata": {
        "id": "AY4DGrWkyDUc"
      },
      "source": [
        "# MobileNetV2 기반 CNN 모델 MobileNetV2 기반 CNN 모델\n",
        "model = models.Sequential()\n",
        "\n",
        "model.add(model_MobileNetV2)\n",
        "model.add(layers.GlobalAveragePooling2D())\n",
        "model.add(layers.Dense(128, activation='relu'))\n",
        "model.add(layers.Dropout(0.7))\n",
        "model.add(layers.Dense(64, activation='relu'))\n",
        "model.add(layers.Dropout(0.7))\n",
        "model.add(layers.Dense(3, activation='softmax'))\n",
        "\n",
        "model.summary()"
      ],
      "execution_count": null,
      "outputs": []
    },
    {
      "cell_type": "code",
      "metadata": {
        "id": "B6gcIVbzyDUd"
      },
      "source": [
        "# 얼리스탑 코드 일부 수정. min_delta 값을 기존(0.01)보다 더 낮춤(0.005)\n",
        "earlystopping = callbacks.EarlyStopping(monitor='val_loss', min_delta=0.005, patience=PATIENCE, verbose=1, mode='min')\n",
        "\n",
        "# 코랩 기준의 텐서보드와 체크포인트 구성 코드이므로 수정할 필요가 있음\n",
        "callback_path = \"/content/drive/My Drive/Age_Classification_with_Faces/input_output\"\n",
        "\n",
        "# 파일 이름에 에포크 번호와 학습 정확도를 포함\n",
        "checkpoint_path = \"mobilenet_test_model/cp-ep{epoch:04d}-acc{val_accuracy:.3f}.h5\"\n",
        "tensorboard_path = \"cnn_logs/mobilenet_test_model\"\n",
        "\n",
        "# 텐서보드\n",
        "tensorboard = callbacks.TensorBoard(log_dir=os.path.join(callback_path, tensorboard_path))\n",
        "\n",
        "# 체크포인트 코드\n",
        "checkpoint = callbacks.ModelCheckpoint(filepath=os.path.join(callback_path, checkpoint_path),\n",
        "                             monitor='val_accuracy',\n",
        "                             mode = 'max',\n",
        "                             save_best_only=True,\n",
        "                             save_weights_only=False,\n",
        "                             verbose=1\n",
        "                            )"
      ],
      "execution_count": null,
      "outputs": []
    },
    {
      "cell_type": "code",
      "metadata": {
        "id": "DqrB1pGayDUd"
      },
      "source": [
        "# 컴파일 코드\n",
        "model.compile(loss='categorical_crossentropy', optimizer= 'adam', metrics=['accuracy'])\n",
        "\n",
        "model_history = model.fit(loader_train,\n",
        "                            validation_data=loader_test,\n",
        "                            callbacks=[tensorboard, checkpoint],\n",
        "                            epochs=EPOCH_SIZE\n",
        "                            )"
      ],
      "execution_count": null,
      "outputs": []
    },
    {
      "cell_type": "code",
      "metadata": {
        "id": "aDDjROJTyDUd"
      },
      "source": [
        "# history 값 얻어오기\n",
        "train_loss = model_history.history['loss']\n",
        "train_accuracy = model_history.history['accuracy']\n",
        "\n",
        "test_loss = model_history.history['val_loss']\n",
        "test_accuracy = model_history.history['val_accuracy']"
      ],
      "execution_count": null,
      "outputs": []
    },
    {
      "cell_type": "code",
      "metadata": {
        "id": "hcGipHlCyDUd"
      },
      "source": [
        "# loss - accuracy 그래프 그리기\n",
        "fig, ax = plt.subplots(ncols=2, figsize=(15,7))\n",
        "\n",
        "ax = ax.ravel()\n",
        "\n",
        "ax[0].plot(train_loss, label='Train Loss', color='royalblue', marker='o', markersize=5)\n",
        "ax[0].plot(test_loss, label='Test Loss', color = 'orangered', marker='o', markersize=5)\n",
        "\n",
        "ax[0].set_xlabel('Epochs', fontsize=14)\n",
        "ax[0].set_ylabel('Categorical Crossentropy', fontsize=14)\n",
        "\n",
        "ax[0].legend(fontsize=14)\n",
        "ax[0].tick_params(axis='both', labelsize=12)\n",
        "\n",
        "ax[1].plot(train_accuracy, label='Train Accuracy', color='royalblue', marker='o', markersize=5)\n",
        "ax[1].plot(test_accuracy, label='Test Accuracy', color='orangered', marker='o', markersize=5)\n",
        "\n",
        "ax[1].set_xlabel('Epochs', fontsize=14)\n",
        "ax[1].set_ylabel('Accuracy', fontsize=14)\n",
        "\n",
        "ax[1].legend(fontsize=14)\n",
        "ax[1].tick_params(axis='both', labelsize=12)\n",
        "\n",
        "fig.suptitle(x=0.5, y=0.92, t=\"Lineplots showing loss and accuracy of CNN model by epochs\", fontsize=16)\n",
        "\n",
        "plt.savefig('/content/drive/My Drive/age_detection/plot_images/mobilenet_model_accuracy.png', bbox_inches='tight');"
      ],
      "execution_count": null,
      "outputs": []
    },
    {
      "cell_type": "code",
      "metadata": {
        "id": "HTg3MvhayDUe"
      },
      "source": [
        "# 스코어 확인 코드\n",
        "model_score = model.evaluate(loader_test, verbose=1)"
      ],
      "execution_count": null,
      "outputs": []
    }
  ]
}