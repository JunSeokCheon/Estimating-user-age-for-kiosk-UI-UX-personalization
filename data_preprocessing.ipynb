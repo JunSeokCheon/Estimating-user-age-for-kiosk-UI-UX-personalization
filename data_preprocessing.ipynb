{
  "nbformat": 4,
  "nbformat_minor": 0,
  "metadata": {
    "colab": {
      "name": "data_preprocessing.ipynb",
      "provenance": [],
      "collapsed_sections": [],
      "toc_visible": true,
      "authorship_tag": "ABX9TyNVFYs1OGiEMzNtIoHrIIEK",
      "include_colab_link": true
    },
    "kernelspec": {
      "name": "python3",
      "display_name": "Python 3"
    },
    "language_info": {
      "name": "python"
    }
  },
  "cells": [
    {
      "cell_type": "markdown",
      "metadata": {
        "id": "view-in-github",
        "colab_type": "text"
      },
      "source": [
        "<a href=\"https://colab.research.google.com/github/JunSeokCheon/Estimating-user-age-for-kiosk-UI-UX-personalization/blob/master/data_preprocessing.ipynb\" target=\"_parent\"><img src=\"https://colab.research.google.com/assets/colab-badge.svg\" alt=\"Open In Colab\"/></a>"
      ]
    },
    {
      "cell_type": "code",
      "metadata": {
        "colab": {
          "base_uri": "https://localhost:8080/"
        },
        "id": "3K6EsotcHkor",
        "outputId": "f7663b98-e849-4777-dfe8-8a4cb9b429e3"
      },
      "source": [
        "from google.colab import drive\n",
        "drive.mount('/content/drive')"
      ],
      "execution_count": null,
      "outputs": [
        {
          "output_type": "stream",
          "text": [
            "Mounted at /content/drive\n"
          ],
          "name": "stdout"
        }
      ]
    },
    {
      "cell_type": "code",
      "metadata": {
        "id": "daMnUYOzHqyC"
      },
      "source": [
        "from zipfile import ZipFile\n",
        "import os\n",
        "import shutil\n",
        "import numpy as np\n",
        "import pandas as pd\n",
        "import matplotlib.pyplot as plt\n",
        "import seaborn as sns\n",
        "import cv2\n",
        "\n",
        "from skimage.filters.rank import entropy\n",
        "from skimage.morphology import disk\n",
        "from skimage.filters import gaussian, sobel\n",
        "from skimage.feature import canny\n",
        "\n",
        "import time\n",
        "from datetime import datetime\n",
        "\n",
        "from sklearn.utils import shuffle\n",
        "from sklearn.model_selection import train_test_split"
      ],
      "execution_count": null,
      "outputs": []
    },
    {
      "cell_type": "code",
      "metadata": {
        "colab": {
          "base_uri": "https://localhost:8080/"
        },
        "id": "cgkUO_hPIS5o",
        "outputId": "94b0a288-7420-4a78-cdb2-7d52c4e493bd"
      },
      "source": [
        "ls"
      ],
      "execution_count": null,
      "outputs": [
        {
          "output_type": "stream",
          "text": [
            "\u001b[0m\u001b[01;34mdrive\u001b[0m/  \u001b[01;34msample_data\u001b[0m/\n"
          ],
          "name": "stdout"
        }
      ]
    },
    {
      "cell_type": "code",
      "metadata": {
        "colab": {
          "base_uri": "https://localhost:8080/"
        },
        "id": "pRadRoVLGjKT",
        "outputId": "2c487403-a5d7-4d5c-ee43-82f6295e553a"
      },
      "source": [
        "Combined_data_final_path = \"/content/drive/My Drive/age_detection/zipped_dataset/Combined_data_final.zip\"\n",
        "try:\n",
        "    os.mkdir(\"combined\")\n",
        "    os.remove(\"combined\")\n",
        "except OSError:\n",
        "    pass\n",
        "\n",
        "with ZipFile(Combined_data_final_path, 'r') as myzip:\n",
        "    myzip.extractall(\"combined\")\n",
        "    print('Done unzipping Combined_data_final_path.zip')"
      ],
      "execution_count": null,
      "outputs": [
        {
          "output_type": "stream",
          "text": [
            "Done unzipping Combined_data_final_path.zip\n"
          ],
          "name": "stdout"
        }
      ]
    },
    {
      "cell_type": "code",
      "metadata": {
        "id": "OCQlhtJjHkrh"
      },
      "source": [
        "Combined_data_path = '/content/combined'\n",
        "Combined_data_image_names = os.listdir(Combined_data_path)"
      ],
      "execution_count": null,
      "outputs": []
    },
    {
      "cell_type": "code",
      "metadata": {
        "colab": {
          "base_uri": "https://localhost:8080/"
        },
        "id": "NYYtUKRpJID0",
        "outputId": "d7e4ad61-cc5d-4d53-8e49-ab12ab3f701a"
      },
      "source": [
        "len(Combined_data_image_names)"
      ],
      "execution_count": null,
      "outputs": [
        {
          "output_type": "execute_result",
          "data": {
            "text/plain": [
              "62644"
            ]
          },
          "metadata": {
            "tags": []
          },
          "execution_count": 6
        }
      ]
    },
    {
      "cell_type": "code",
      "metadata": {
        "id": "jOYSgEyyJK75"
      },
      "source": [
        "# combined 데이터셋을 나이, 종류(0 - facial_age, 1 - utk,  2- all-ages-face, 3 - meag)\n",
        "\n",
        "def age_kind_split(image_name):\n",
        "    image_labels = image_name.split('_')\n",
        "    age = image_labels[0]\n",
        "    kind = image_labels[1]\n",
        "\n",
        "    return (age, kind)"
      ],
      "execution_count": null,
      "outputs": []
    },
    {
      "cell_type": "code",
      "metadata": {
        "id": "G7ZAGbrKXsKm"
      },
      "source": [
        "# age_kind_split 사용하여 나이, 종류 라벨을 각각 저장한다.\n",
        "\n",
        "combined_age_labels = np.array([])\n",
        "combined_kind_labels = np.array([])\n",
        "\n",
        "for image in Combined_data_image_names:\n",
        "    age, kind = age_kind_split(image)\n",
        "    combined_age_labels = np.append(combined_age_labels, age)\n",
        "    combined_kind_labels = np.append(combined_kind_labels, kind)"
      ],
      "execution_count": null,
      "outputs": []
    },
    {
      "cell_type": "code",
      "metadata": {
        "colab": {
          "base_uri": "https://localhost:8080/"
        },
        "id": "G_Nhw2QiYObB",
        "outputId": "34980371-a267-4ac4-8d15-75aa6acdbd96"
      },
      "source": [
        "combined_ages_counts = pd.Series(combined_age_labels).value_counts()\n",
        "combined_ages_counts"
      ],
      "execution_count": null,
      "outputs": [
        {
          "output_type": "execute_result",
          "data": {
            "text/plain": [
              "26     2864\n",
              "28     2595\n",
              "24     2181\n",
              "27     2177\n",
              "30     1772\n",
              "       ... \n",
              "116       3\n",
              "91        3\n",
              "101       3\n",
              "115       3\n",
              "103       1\n",
              "Length: 94, dtype: int64"
            ]
          },
          "metadata": {
            "tags": []
          },
          "execution_count": 9
        }
      ]
    },
    {
      "cell_type": "code",
      "metadata": {
        "id": "E5QvwRWXZBoS"
      },
      "source": [
        "combined_images = {}\n",
        "\n",
        "for age, counts in combined_ages_counts.items():\n",
        "    combined_images[int(age)] = counts"
      ],
      "execution_count": null,
      "outputs": []
    },
    {
      "cell_type": "code",
      "metadata": {
        "colab": {
          "base_uri": "https://localhost:8080/"
        },
        "id": "BkMgYnxKZKjW",
        "outputId": "5dae3d76-79fa-42f8-a2de-19f12397fc76"
      },
      "source": [
        "combined_images[25]"
      ],
      "execution_count": null,
      "outputs": [
        {
          "output_type": "execute_result",
          "data": {
            "text/plain": [
              "1592"
            ]
          },
          "metadata": {
            "tags": []
          },
          "execution_count": 11
        }
      ]
    },
    {
      "cell_type": "code",
      "metadata": {
        "colab": {
          "base_uri": "https://localhost:8080/"
        },
        "id": "yChi50DzZNhx",
        "outputId": "47af5413-e7f4-4127-f114-a31e27af10df"
      },
      "source": [
        "sum(combined_images.values())"
      ],
      "execution_count": null,
      "outputs": [
        {
          "output_type": "execute_result",
          "data": {
            "text/plain": [
              "62644"
            ]
          },
          "metadata": {
            "tags": []
          },
          "execution_count": 12
        }
      ]
    },
    {
      "cell_type": "code",
      "metadata": {
        "colab": {
          "base_uri": "https://localhost:8080/"
        },
        "id": "nwCh0bjpZX7m",
        "outputId": "3b13ddfb-8433-4139-843d-0670de40a365"
      },
      "source": [
        "images_df = pd.DataFrame(combined_images.values(), index=combined_images.keys(), columns=['combined_images'])\n",
        "\n",
        "images_df"
      ],
      "execution_count": null,
      "outputs": [
        {
          "output_type": "execute_result",
          "data": {
            "text/html": [
              "<div>\n",
              "<style scoped>\n",
              "    .dataframe tbody tr th:only-of-type {\n",
              "        vertical-align: middle;\n",
              "    }\n",
              "\n",
              "    .dataframe tbody tr th {\n",
              "        vertical-align: top;\n",
              "    }\n",
              "\n",
              "    .dataframe thead th {\n",
              "        text-align: right;\n",
              "    }\n",
              "</style>\n",
              "<table border=\"1\" class=\"dataframe\">\n",
              "  <thead>\n",
              "    <tr style=\"text-align: right;\">\n",
              "      <th></th>\n",
              "      <th>combined_images</th>\n",
              "    </tr>\n",
              "  </thead>\n",
              "  <tbody>\n",
              "    <tr>\n",
              "      <th>26</th>\n",
              "      <td>2864</td>\n",
              "    </tr>\n",
              "    <tr>\n",
              "      <th>28</th>\n",
              "      <td>2595</td>\n",
              "    </tr>\n",
              "    <tr>\n",
              "      <th>24</th>\n",
              "      <td>2181</td>\n",
              "    </tr>\n",
              "    <tr>\n",
              "      <th>27</th>\n",
              "      <td>2177</td>\n",
              "    </tr>\n",
              "    <tr>\n",
              "      <th>30</th>\n",
              "      <td>1772</td>\n",
              "    </tr>\n",
              "    <tr>\n",
              "      <th>...</th>\n",
              "      <td>...</td>\n",
              "    </tr>\n",
              "    <tr>\n",
              "      <th>116</th>\n",
              "      <td>3</td>\n",
              "    </tr>\n",
              "    <tr>\n",
              "      <th>91</th>\n",
              "      <td>3</td>\n",
              "    </tr>\n",
              "    <tr>\n",
              "      <th>101</th>\n",
              "      <td>3</td>\n",
              "    </tr>\n",
              "    <tr>\n",
              "      <th>115</th>\n",
              "      <td>3</td>\n",
              "    </tr>\n",
              "    <tr>\n",
              "      <th>103</th>\n",
              "      <td>1</td>\n",
              "    </tr>\n",
              "  </tbody>\n",
              "</table>\n",
              "<p>94 rows × 1 columns</p>\n",
              "</div>"
            ],
            "text/plain": [
              "     combined_images\n",
              "26              2864\n",
              "28              2595\n",
              "24              2181\n",
              "27              2177\n",
              "30              1772\n",
              "..               ...\n",
              "116                3\n",
              "91                 3\n",
              "101                3\n",
              "115                3\n",
              "103                1\n",
              "\n",
              "[94 rows x 1 columns]"
            ]
          },
          "metadata": {
            "tags": []
          },
          "execution_count": 13
        }
      ]
    },
    {
      "cell_type": "code",
      "metadata": {
        "colab": {
          "base_uri": "https://localhost:8080/"
        },
        "id": "zjPva4qaZi1Q",
        "outputId": "87eff35c-d289-4b57-c12f-a8a32cffb5be"
      },
      "source": [
        "images_df.fillna(0, inplace=True)\n",
        "images_df = images_df.astype(int)\n",
        "\n",
        "images_df"
      ],
      "execution_count": null,
      "outputs": [
        {
          "output_type": "execute_result",
          "data": {
            "text/html": [
              "<div>\n",
              "<style scoped>\n",
              "    .dataframe tbody tr th:only-of-type {\n",
              "        vertical-align: middle;\n",
              "    }\n",
              "\n",
              "    .dataframe tbody tr th {\n",
              "        vertical-align: top;\n",
              "    }\n",
              "\n",
              "    .dataframe thead th {\n",
              "        text-align: right;\n",
              "    }\n",
              "</style>\n",
              "<table border=\"1\" class=\"dataframe\">\n",
              "  <thead>\n",
              "    <tr style=\"text-align: right;\">\n",
              "      <th></th>\n",
              "      <th>combined_images</th>\n",
              "    </tr>\n",
              "  </thead>\n",
              "  <tbody>\n",
              "    <tr>\n",
              "      <th>26</th>\n",
              "      <td>2864</td>\n",
              "    </tr>\n",
              "    <tr>\n",
              "      <th>28</th>\n",
              "      <td>2595</td>\n",
              "    </tr>\n",
              "    <tr>\n",
              "      <th>24</th>\n",
              "      <td>2181</td>\n",
              "    </tr>\n",
              "    <tr>\n",
              "      <th>27</th>\n",
              "      <td>2177</td>\n",
              "    </tr>\n",
              "    <tr>\n",
              "      <th>30</th>\n",
              "      <td>1772</td>\n",
              "    </tr>\n",
              "    <tr>\n",
              "      <th>...</th>\n",
              "      <td>...</td>\n",
              "    </tr>\n",
              "    <tr>\n",
              "      <th>116</th>\n",
              "      <td>3</td>\n",
              "    </tr>\n",
              "    <tr>\n",
              "      <th>91</th>\n",
              "      <td>3</td>\n",
              "    </tr>\n",
              "    <tr>\n",
              "      <th>101</th>\n",
              "      <td>3</td>\n",
              "    </tr>\n",
              "    <tr>\n",
              "      <th>115</th>\n",
              "      <td>3</td>\n",
              "    </tr>\n",
              "    <tr>\n",
              "      <th>103</th>\n",
              "      <td>1</td>\n",
              "    </tr>\n",
              "  </tbody>\n",
              "</table>\n",
              "<p>94 rows × 1 columns</p>\n",
              "</div>"
            ],
            "text/plain": [
              "     combined_images\n",
              "26              2864\n",
              "28              2595\n",
              "24              2181\n",
              "27              2177\n",
              "30              1772\n",
              "..               ...\n",
              "116                3\n",
              "91                 3\n",
              "101                3\n",
              "115                3\n",
              "103                1\n",
              "\n",
              "[94 rows x 1 columns]"
            ]
          },
          "metadata": {
            "tags": []
          },
          "execution_count": 14
        }
      ]
    },
    {
      "cell_type": "code",
      "metadata": {
        "id": "-ZYN1iwpZn36"
      },
      "source": [
        "images_df.to_csv(\"/content/drive/My Drive/age_detection/input_output/combined_images_summary.csv\", index=True, index_label='age')"
      ],
      "execution_count": null,
      "outputs": []
    },
    {
      "cell_type": "code",
      "metadata": {
        "colab": {
          "base_uri": "https://localhost:8080/"
        },
        "id": "sT9zAq2RaaQf",
        "outputId": "eb6df6c6-e89e-45d6-b740-3f0125f4479b"
      },
      "source": [
        "plt.figure(figsize=(30, 10))\n",
        "\n",
        "ax = sns.barplot(x=images_df.index, y=images_df['combined_images'], color='royalblue')\n",
        "\n",
        "ax.tick_params(axis='both', labelsize=12)\n",
        "ax.tick_params(axis='x', labelrotation=45)\n",
        "\n",
        "plt.xlabel(\"Age\", fontsize=16)\n",
        "plt.ylabel(\"No. of Images\", fontsize=16)\n",
        "\n",
        "plt.title(\"Barplot showing No. of images in combined dataset by Age\", fontsize=18)\n",
        "\n",
        "# png로 저장\n",
        "plt.savefig('/content/drive/My Drive/age_detection/plot_images/barplot_combined_images.png', bbox_inches='tight');"
      ],
      "execution_count": null,
      "outputs": [
        {
          "output_type": "display_data",
          "data": {
            "image/png": "[encoded data removed]",
            "text/plain": [
              "<Figure size 2160x720 with 1 Axes>"
            ]
          },
          "metadata": {
            "tags": [],
            "needs_background": "light"
          }
        }
      ]
    },
    {
      "cell_type": "code",
      "metadata": {
        "id": "eQYp1125cJTu"
      },
      "source": [
        "# 각 나이별 데이터들을 묶는데, 분류된 클래스들이 균형맞게 데이터들이 분배되어 있게 하기 위한 함수.\n",
        "\n",
        "def split_classes(ser, n_classes):\n",
        "\n",
        "    n_images = int(sum(ser) / n_classes)\n",
        "\n",
        "    print(f\"Total no. of images in dataset\\t= {sum(ser)}\")\n",
        "    print(f\"No. of classes desired\\t\\t= {n_classes}\")\n",
        "    print(f\"So, target no. of images/class\\t>= {sum(ser)}/{n_classes} = ~{n_images}\")\n",
        "    print()\n",
        "\n",
        "    classes_df = pd.DataFrame(columns=['Age-ranges (classes)', 'No. of images', 'Class balance (%)'])\n",
        "\n",
        "    age_index = 0\n",
        "\n",
        "    for i in range(n_classes):\n",
        "\n",
        "        if age_index<=93:\n",
        "            age_start = ser.index[age_index]\n",
        "            age_current = ser.index[age_index]\n",
        "        else:\n",
        "            break\n",
        "\n",
        "        class_images = 0\n",
        "        \n",
        "        while class_images < n_images:\n",
        "            class_images += ser[age_current]\n",
        "            age_index += 1\n",
        "\n",
        "            if age_index<=93:\n",
        "                age_current = ser.index[age_index]\n",
        "            else:\n",
        "                break\n",
        "\n",
        "        if age_index<=94:\n",
        "            age_end = ser.index[age_index-1]\n",
        "        else:\n",
        "            break\n",
        "        \n",
        "        classes_df.loc[i, 'Age-ranges (classes)'] = str(age_start)+\" - \"+str(age_end)\n",
        "        classes_df.loc[i, 'No. of images'] = class_images\n",
        "        classes_df.loc[i, 'Class balance (%)'] = round((class_images / sum(ser)) * 100, 2)\n",
        "    \n",
        "    mean_images = int(round(np.mean(classes_df.loc[:, 'No. of images'])))\n",
        "    mean_balance = round(np.mean(classes_df.loc[:, 'Class balance (%)']), 2)\n",
        "    std_balance = round(np.std(classes_df.loc[:, 'Class balance (%)']), 2)\n",
        "    \n",
        "    print(f\"Mean no. of images/class\\t= ~{mean_images}\")\n",
        "    print(f\"Mean class balance\\t\\t= {mean_balance}%\")\n",
        "    print(f\"Std. of class balance\\t\\t= {std_balance}%\")\n",
        "    print()\n",
        "\n",
        "    return classes_df"
      ],
      "execution_count": null,
      "outputs": []
    },
    {
      "cell_type": "code",
      "metadata": {
        "id": "ob6b0BOxcUAV"
      },
      "source": [
        "combined_classes = split_classes(images_df['combined_images'], 11)\n",
        "combined_classes"
      ],
      "execution_count": null,
      "outputs": []
    },
    {
      "cell_type": "code",
      "metadata": {
        "id": "i2WcDJrwcUDB"
      },
      "source": [
        "combined_classes.to_csv(\"/content/drive/My Drive/age_detection/input_output/combined_faces_classes_summary.csv\", index=True, index_label='Class label')"
      ],
      "execution_count": null,
      "outputs": []
    },
    {
      "cell_type": "code",
      "metadata": {
        "id": "8BW_m1sLcUFq"
      },
      "source": [
        "plt.figure(figsize=(12, 8))\n",
        "\n",
        "ax = sns.barplot(x=combined_classes['Age-ranges (classes)'], y=combined_classes['No. of images'], color='royalblue')\n",
        "\n",
        "ax.tick_params(axis='both', labelsize=12)\n",
        "\n",
        "plt.xlabel(\"Age-ranges (classes)\", fontsize=14)\n",
        "plt.ylabel(\"No. of Images\", fontsize=14)\n",
        "\n",
        "plt.title(\"Barplot showing balance of images in different\\nAge-ranges (classes) for Combined dataset\", fontsize=18)\n",
        "\n",
        "plt.savefig('/content/drive/My Drive/age_detection/plot_images/barplot_combined_faces_images_in_classes.png', bbox_inches='tight');"
      ],
      "execution_count": null,
      "outputs": []
    },
    {
      "cell_type": "code",
      "metadata": {
        "id": "TsmQcnI3cUKZ"
      },
      "source": [
        "combined_classes = pd.read_csv(\"/content/drive/My Drive/age_detection/input_output/combined_faces_classes_summary.csv\")\n",
        "combined_classes"
      ],
      "execution_count": null,
      "outputs": []
    },
    {
      "cell_type": "code",
      "metadata": {
        "id": "RADOrUBSfW91"
      },
      "source": [
        "def class_labels(age):\n",
        "    if 10 <= age <= 29:\n",
        "        return 0\n",
        "    elif 30 <= age <= 59:\n",
        "        return 1 \n",
        "    else:\n",
        "        return 2"
      ],
      "execution_count": null,
      "outputs": []
    },
    {
      "cell_type": "code",
      "metadata": {
        "id": "0Zb0qL2Rfwxt"
      },
      "source": [
        "master_df = pd.DataFrame()\n",
        "master_df['filename'] = Combined_data_image_names\n",
        "master_df['age'] = master_df['filename'].map(lambda img_name : np.uint8(img_name.split(\"_\")[0]))\n",
        "master_df['target'] = master_df['age'].map(class_labels)\n",
        "\n",
        "master_df.head()"
      ],
      "execution_count": null,
      "outputs": []
    },
    {
      "cell_type": "code",
      "metadata": {
        "id": "oiLsri9Sf1kh"
      },
      "source": [
        "master_df = shuffle(master_df, random_state=42).reset_index(drop=True)\n",
        "master_df.head()"
      ],
      "execution_count": null,
      "outputs": []
    },
    {
      "cell_type": "code",
      "metadata": {
        "id": "NCw0txJ7iLu4"
      },
      "source": [
        "temp_master = master_df.copy()"
      ],
      "execution_count": null,
      "outputs": []
    },
    {
      "cell_type": "code",
      "metadata": {
        "id": "JLBZUGp3gEO-"
      },
      "source": [
        "combined_path = \"/content/combined\"\n",
        "\n",
        "def append_path_to_filename(filename):\n",
        "    return os.path.join(combined_path, filename)"
      ],
      "execution_count": null,
      "outputs": []
    },
    {
      "cell_type": "code",
      "metadata": {
        "id": "jY4aRQMeh8hb"
      },
      "source": [
        "temp_master['filename'] = master_df['filename'].map(append_path_to_filename)"
      ],
      "execution_count": null,
      "outputs": []
    },
    {
      "cell_type": "code",
      "metadata": {
        "id": "9nzVIjSViDz3"
      },
      "source": [
        "temp_master.to_csv(\"/content/drive/My Drive/age_detection/input_output/images_filenames_labels.csv\", index=False)"
      ],
      "execution_count": null,
      "outputs": []
    },
    {
      "cell_type": "code",
      "metadata": {
        "id": "mxNvcxEpijeR"
      },
      "source": [
        "master = pd.read_csv(\"/content/drive/My Drive/age_detection/input_output/images_filenames_labels.csv\")\n",
        "master"
      ],
      "execution_count": null,
      "outputs": []
    }
  ]
}